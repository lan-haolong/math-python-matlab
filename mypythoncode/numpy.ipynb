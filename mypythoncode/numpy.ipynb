{
 "cells": [
  {
   "cell_type": "markdown",
   "metadata": {},
   "source": [
    "# **numpy库用法**"
   ]
  },
  {
   "cell_type": "markdown",
   "metadata": {},
   "source": [
    "### 一、创建数组\n",
    "数组可以是一维或高维的"
   ]
  },
  {
   "cell_type": "code",
   "execution_count": null,
   "metadata": {},
   "outputs": [],
   "source": [
    "import numpy as np\n",
    "# 一维数组\n",
    "arr1 = np.array([1, 2, 3])\n",
    "\n",
    "# 二维数组\n",
    "arr2 = np.array([[1, 2, 3], [4, 5, 6]])\n",
    "print(arr2)\n",
    "# 零数组\n",
    "zeros_arr = np.zeros((3, 4))\n",
    "\n",
    "# 全1数组\n",
    "ones_arr = np.ones((2, 3))\n",
    "\n",
    "# 等差数列\n",
    "linspace_arr = np.linspace(0, 1, 5)\n"
   ]
  },
  {
   "cell_type": "markdown",
   "metadata": {},
   "source": [
    "### 二、数组的基本属性和操作"
   ]
  },
  {
   "cell_type": "markdown",
   "metadata": {},
   "source": [
    "1. 访问数组的大小和维度"
   ]
  },
  {
   "cell_type": "code",
   "execution_count": null,
   "metadata": {},
   "outputs": [],
   "source": [
    "#获取矩阵的形状\n",
    "print(arr2.shape)   # 输出 (2, 3)，表示二维数组，每维度分别有2和3个元素\n",
    "#获取矩阵的元素个数\n",
    "print(arr2.size)    # 输出 6，表示数组中的总元素个数\n",
    "#获取矩阵的维度\n",
    "print(arr2.ndim)    # 输出 2，表示数组的维度"
   ]
  },
  {
   "cell_type": "markdown",
   "metadata": {},
   "source": [
    "2. 索引和切片"
   ]
  },
  {
   "cell_type": "code",
   "execution_count": null,
   "metadata": {},
   "outputs": [],
   "source": [
    "print(arr1[0])        # 输出 1，获取一维数组的第一个元素\n",
    "print(arr2[1, 2])     # 输出 6，获取二维数组的第二行第三列的元素\n",
    "print(arr2[:, 1:])    # 获取二维数组的所有行，从第二列开始的所有元素\n",
    "# 按条件切片\n",
    "a = np.array([[1,2,3,4,5],[6,7,8,9,10]])\n",
    "b = a[a>6] # 截取矩阵a中大于6的元素，范围的是一维数组\n",
    "print(b) # 返回 [ 7  8  9 10]\n",
    "print(a>6) \n",
    "#大于6的元素赋值为0\n",
    "a[a>6] = 0\n",
    "print(a)\n",
    "\n"
   ]
  },
  {
   "cell_type": "markdown",
   "metadata": {},
   "source": [
    "3. 数组的运算"
   ]
  },
  {
   "cell_type": "code",
   "execution_count": null,
   "metadata": {},
   "outputs": [],
   "source": [
    "a=np.array([[1,2,3],[4,5,6]])\n",
    "b=np.array([[1,2],[3,4],[5,6]])\n",
    "c=np.array([[1,2,6],[4,7,6],[7,8,9]])\n",
    "d=np.array([[1],[4]])\n",
    "e=np.array([[1,2,3]])\n",
    "f=np.array([[4,5,6],[7,8,9]])\n",
    "\n",
    "#矩阵加法\n",
    "sum = a + f\n",
    "print(f'矩阵加法结果:\\n{sum}')\n",
    "#矩阵减法\n",
    "sub = a - f\n",
    "print(f'矩阵减法结果:\\n{sub}')\n",
    "#元素乘法，对应元素相乘\n",
    "mul = a * f\n",
    "print(f'元素乘法结果:\\n{mul}')\n",
    "#矩阵乘法\n",
    "dot = np.dot(a,b)\n",
    "print(f'矩阵点乘结果:\\n{dot}')\n",
    "#矩阵求逆\n",
    "inv = np.linalg.inv(c)\n",
    "print(f'矩阵求逆结果:\\n{inv}')\n",
    "#矩阵转置\n",
    "k = np.transpose(e)\n",
    "print(f'矩阵转置结果:\\n{k}')\n",
    "m = e.T\n",
    "print(f'矩阵转置结果:\\n{m}')\n",
    "#矩阵求秩\n",
    "n = np.linalg.matrix_rank(e)\n",
    "print(f'矩阵求秩结果:\\n{n}')\n",
    "#矩阵求特征值和特征向量，返回值是一个元组，第一个元素是特征值，第二个元素是特征向量\n",
    "eig = np.linalg.eig(c)\n",
    "eigvalues, eigvectors = np.linalg.eig(c)\n",
    "print(f'矩阵求特征值结果:\\n{eigvalues}')\n",
    "print(f'矩阵求特征向量结果:\\n{eigvectors}')\n",
    "\n",
    "# 只获取特征值\n",
    "eigvalues = np.linalg.eig(c)[0]\n",
    "# 只获取特征向量\n",
    "eigvectors = np.linalg.eig(c)[1]"
   ]
  }
 ],
 "metadata": {
  "kernelspec": {
   "display_name": "math_model",
   "language": "python",
   "name": "python3"
  },
  "language_info": {
   "codemirror_mode": {
    "name": "ipython",
    "version": 3
   },
   "file_extension": ".py",
   "mimetype": "text/x-python",
   "name": "python",
   "nbconvert_exporter": "python",
   "pygments_lexer": "ipython3",
   "version": "3.7.16"
  }
 },
 "nbformat": 4,
 "nbformat_minor": 2
}
