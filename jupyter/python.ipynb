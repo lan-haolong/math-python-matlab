{
 "cells": [],
 "metadata": {
  "kernelspec": {
   "display_name": "math_model",
   "language": "python",
   "name": "python3"
  },
  "language_info": {
   "name": "python",
   "version": "3.7.16"
  }
 },
 "nbformat": 4,
 "nbformat_minor": 2
}
